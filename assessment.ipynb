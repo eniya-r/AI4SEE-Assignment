{
  "nbformat": 4,
  "nbformat_minor": 0,
  "metadata": {
    "colab": {
      "provenance": []
    },
    "kernelspec": {
      "name": "python3",
      "display_name": "Python 3"
    },
    "language_info": {
      "name": "python"
    }
  },
  "cells": [
    {
      "cell_type": "code",
      "execution_count": null,
      "metadata": {
        "id": "HefVZq4eVW7w"
      },
      "outputs": [],
      "source": [
        "import cv2\n",
        "import dlib\n",
        "import os\n",
        "\n",
        "detector = dlib.get_frontal_face_detector()\n",
        "\n",
        "# Function to save cropped faces\n",
        "def save_cropped_faces(frame, faces, output_folder):\n",
        "    for i, face in enumerate(faces):\n",
        "        x1, y1, x2, y2 = face.left(), face.top(), face.right(), face.bottom()\n",
        "        cropped_face = frame[y1:y2, x1:x2]\n",
        "        filename = f'face_{i}.jpg'\n",
        "        filepath = os.path.join(output_folder, filename)\n",
        "        cv2.imwrite(filepath, cropped_face)\n",
        "\n",
        "#function to process video\n",
        "def process_video(video_path, output_folder):\n",
        "    cap = cv2.VideoCapture(video_path)\n",
        "    while cap.isOpened():\n",
        "        ret, frame = cap.read()\n",
        "        if not ret:\n",
        "            break\n",
        "        gray = cv2.cvtColor(frame, cv2.COLOR_BGR2GRAY)\n",
        "        faces = detector(gray)\n",
        "        save_cropped_faces(frame, faces, output_folder)\n",
        "\n",
        "    cap.release()\n",
        "\n",
        "if __name__ == '__main__':\n",
        "    video_path = '/content/drive/MyDrive/animal.mp4'\n",
        "    output_folder = '/content/drive/MyDrive/output'\n",
        "    os.makedirs(output_folder, exist_ok=True)\n",
        "\n",
        "    process_video(video_path, output_folder)\n"
      ]
    }
  ]
}